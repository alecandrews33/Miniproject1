{
 "cells": [
  {
   "cell_type": "code",
   "execution_count": 172,
   "metadata": {
    "collapsed": false
   },
   "outputs": [],
   "source": [
    "import numpy as np\n",
    "from sklearn.linear_model import LogisticRegression\n",
    "from sklearn import svm\n",
    "from sklearn.model_selection import KFold\n",
    "\n",
    "%matplotlib inline"
   ]
  },
  {
   "cell_type": "code",
   "execution_count": 173,
   "metadata": {
    "collapsed": true
   },
   "outputs": [],
   "source": [
    "data = np.loadtxt('training_data.txt', skiprows=1)\n",
    "X = data[:, 1:]\n",
    "y = data[:, 0]\n",
    "file = open('training_data.txt', 'r')\n",
    "line = file.readline()\n",
    "words = line.split(\" \")[1:]"
   ]
  },
  {
   "cell_type": "code",
   "execution_count": 174,
   "metadata": {
    "collapsed": true
   },
   "outputs": [],
   "source": [
    "revised = [\"like\", \"great\", \"good\", \"love\", \"best\", \"want\", \"ever\", \"recommend\", \"enjoy\", \"never\", \"bad\", \"need\",\n",
    "          \"disappoint\", \"money\", \"wast\", \"doesnt\", \"bore\", \"help\", \"problem\", \"excel\", \"anyon\", \"price\", \"hard\",\n",
    "          \"right\", \"hope\", \"nice\", \"fun\", \"without\", \"big\", \"favorit\", \"quit\", \"worst\", \"beauti\", \"amaz\", \"poor\",\n",
    "          \"true\", \"pleas\", \"perfect\", \"wish\", \"funni\", \"style\", \"size\", \"wont\", \"less\", \"wasnt\", \"least\", \"kind\", \n",
    "          \"stop\", \"perform\", \"terribl\", \"absolut\", \"especi\", \"happi\", \"fine\", \"horribl\", \"replac\", \"rather\", \"awesom\",\n",
    "          \"thank\", \"american\", \"simpli\", \"excit\", \"truli\", \"ok\", \"extrem\", \"hate\", \"god\", \"design\", \"difficult\", \"issu\",\n",
    "          \"die\", \"easili\", \"unfortun\", \"impress\", \"cool\", \"extra\", \"hot\", \"stupid\", \"incred\", \"fantast\", \"valu\", \"break\",\n",
    "          \"cost\", \"glad\", \"pop\", \"kill\", \"greatest\", \"fail\", \"sad\", \"sorri\", \"horror\", \"annoy\", \"suck\", \"comfort\", \n",
    "          \"clean\", \"wors\", \"leak\", \"quickli\", \"poorli\", \"inspir\", \"death\", \"expens\", \"mistak\", \"dead\", \"weak\", \"junk\",\n",
    "          \"wow\", \"avoid\", \"okay\", \"none\", \"brilliant\", \"troubl\", \"improv\", \"cute\", \"lose\", \"doubt\", \"crap\", \"correct\",\n",
    "          \"fascin\", \"success\", \"frustrat\", \"satisfi\", \"creativ\", \"perfectli\", \"uniqu\", \"trash\", \"bewar\", \"useless\", \"hell\",\n",
    "          \"rare\", \"imposs\", \"broken\", \"mess\", \"ridicul\", \"prefer\", \"ruin\", \"dissapoint\", \"delight\", \"refund\", \"complaint\"]"
   ]
  },
  {
   "cell_type": "code",
   "execution_count": 175,
   "metadata": {
    "collapsed": true
   },
   "outputs": [],
   "source": [
    "important_words = []\n",
    "for i in range(len(revised)):\n",
    "    important_words.append(words.index(\"%s\" % revised[i]))"
   ]
  },
  {
   "cell_type": "code",
   "execution_count": 176,
   "metadata": {
    "collapsed": false
   },
   "outputs": [],
   "source": [
    "for point in X:\n",
    "    for i in important_words:\n",
    "        point[i] *= 4"
   ]
  },
  {
   "cell_type": "code",
   "execution_count": 177,
   "metadata": {
    "collapsed": false
   },
   "outputs": [],
   "source": [
    "train_err = 0.0\n",
    "val_err = 0.0\n",
    "#### choose number of splits here.\n",
    "splits = 10\n",
    "kf = KFold(n_splits = splits)\n",
    "l = kf.split(X,y)\n",
    "\n",
    "#change model here ********\n",
    "model = LogisticRegression(penalty='l1', C=.15)\n",
    "for index in l:\n",
    "    training, validation = index\n",
    "\n",
    "    #change model here 2\n",
    "    model.fit(X[training], y[training])\n",
    "    \n",
    "    \n",
    "    \n",
    "    #compute val error\n",
    "    val_err += model.score(X[validation], y[validation])\n",
    "    \n",
    "    train_err += model.score(X[training], y[training])"
   ]
  },
  {
   "cell_type": "code",
   "execution_count": 178,
   "metadata": {
    "collapsed": false
   },
   "outputs": [
    {
     "name": "stdout",
     "output_type": "stream",
     "text": [
      "0.8497999999999999\n",
      "0.8682444444444444\n"
     ]
    }
   ],
   "source": [
    "val_err /= 10.0\n",
    "train_err /= 10.0\n",
    "\n",
    "print(val_err)\n",
    "print(train_err)"
   ]
  },
  {
   "cell_type": "code",
   "execution_count": 164,
   "metadata": {
    "collapsed": false
   },
   "outputs": [],
   "source": [
    "test = np.loadtxt('test_data.txt', skiprows=1)\n",
    "for point in test:\n",
    "    for i in important_words:\n",
    "        point[i] *= 4.15\n",
    "testY = model.predict(test)"
   ]
  },
  {
   "cell_type": "code",
   "execution_count": 166,
   "metadata": {
    "collapsed": true
   },
   "outputs": [],
   "source": [
    "f = open('logReg2.txt','w')\n",
    "f.write('Id,Prediction\\n')\n",
    "id = 1\n",
    "\n",
    "for i in range(len(test)):\n",
    "    \n",
    "    f.write(str(id) + ',' + str(int(testY[i])) + '\\n')\n",
    "    id += 1"
   ]
  },
  {
   "cell_type": "code",
   "execution_count": 88,
   "metadata": {
    "collapsed": false
   },
   "outputs": [
    {
     "data": {
      "text/plain": [
       "SGDClassifier(alpha=0.0001, average=False, class_weight=None, epsilon=0.1,\n",
       "       eta0=1, fit_intercept=True, l1_ratio=0.15, learning_rate='constant',\n",
       "       loss='perceptron', n_iter=5, n_jobs=1, penalty=None, power_t=0.5,\n",
       "       random_state=None, shuffle=True, verbose=0, warm_start=False)"
      ]
     },
     "execution_count": 88,
     "metadata": {},
     "output_type": "execute_result"
    }
   ],
   "source": [
    "from sklearn.linear_model import SGDClassifier\n",
    "\n",
    "sgd = SGDClassifier(loss='perceptron', eta0=1, learning_rate='constant', penalty=None)\n",
    "sgd.fit(X, y)\n"
   ]
  },
  {
   "cell_type": "code",
   "execution_count": 89,
   "metadata": {
    "collapsed": false
   },
   "outputs": [
    {
     "name": "stdout",
     "output_type": "stream",
     "text": [
      "0.8242\n"
     ]
    }
   ],
   "source": [
    "predictY = sgd.predict(X)\n",
    "\n",
    "acc = np.sum(y==predictY)\n",
    "accuracy = acc / 20000\n",
    "\n",
    "print(accuracy)"
   ]
  },
  {
   "cell_type": "code",
   "execution_count": 67,
   "metadata": {
    "collapsed": false
   },
   "outputs": [
    {
     "name": "stdout",
     "output_type": "stream",
     "text": [
      "0.85715\n"
     ]
    }
   ],
   "source": [
    "sgd = SGDClassifier(loss='log', penalty = 'l1', alpha = 0.0001, learning_rate = 'optimal')\n",
    "sgd.fit(X, y)\n",
    "\n",
    "predictY = sgd.predict(X)\n",
    "\n",
    "acc = np.sum(y==predictY)\n",
    "accuracy = acc / 20000\n",
    "\n",
    "print(accuracy)"
   ]
  },
  {
   "cell_type": "code",
   "execution_count": null,
   "metadata": {
    "collapsed": true
   },
   "outputs": [],
   "source": []
  }
 ],
 "metadata": {
  "kernelspec": {
   "display_name": "Python 3",
   "language": "python",
   "name": "python3"
  },
  "language_info": {
   "codemirror_mode": {
    "name": "ipython",
    "version": 3
   },
   "file_extension": ".py",
   "mimetype": "text/x-python",
   "name": "python",
   "nbconvert_exporter": "python",
   "pygments_lexer": "ipython3",
   "version": "3.6.0"
  }
 },
 "nbformat": 4,
 "nbformat_minor": 2
}
